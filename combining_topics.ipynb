{
 "cells": [
  {
   "cell_type": "code",
   "execution_count": null,
   "metadata": {},
   "outputs": [],
   "source": [
    "import pandas as pd\n",
    "import os"
   ]
  },
  {
   "cell_type": "code",
   "execution_count": null,
   "metadata": {},
   "outputs": [],
   "source": [
    "# The topics which we will combine into a single csv file\n",
    "desired_topics = [\n",
    "    '/control/vehicle_cmd',\n",
    "    #'/detection/detected_objects',\n",
    "    #'/detection/final_objects',\n",
    "    '/localization/current_pose',\n",
    "    '/localization/current_velocity',\n",
    "    '/novatel/oem7/bestpos',\n",
    "    '/novatel/oem7/inspva',\n",
    "    #'/planning/global_path',\n",
    "    #'/planning/local_path',\n",
    "    '/vehicle/vehicle_status',\n",
    "    #'/pacmod/enabled'\n",
    "]"
   ]
  },
  {
   "cell_type": "code",
   "execution_count": null,
   "metadata": {},
   "outputs": [],
   "source": [
    "# The folders of rides we want to create unified csv files from\n",
    "desired_folders_for_training = [\n",
    "    'F:\\\\2023-10-16-10-14-49_tiksoja_ride_02_sfa',\n",
    "    'F:\\\\2023-10-16-10-30-17_tiksoja_ride_03_cluster',\n",
    "    'F:\\\\2023-10-16-10-50-24_tiksoja_ride_04_sfa',\n",
    "    'F:\\\\2023-10-16-13-47-19_tiksoja_ride_05_cluster',\n",
    "    'F:\\\\2023-10-16-15-23-20_tiksoja_ride_08_cluster',\n",
    "    'F:\\\\2023-10-30-09-55-20_tiksoja_ride_09_sfa_split_2',\n",
    "    'F:\\\\2023-10-30-10-21-51_tiksoja_ride_10_cluster_split_1',\n",
    "    'F:\\\\2023-10-30-10-34-58_tiksoja_ride_10_cluster_split_2',\n",
    "    'F:\\\\2023-10-30-10-53-17_tiksoja_ride_11_cluster_split_1',\n",
    "    'F:\\\\2023-10-30-11-07-11_tiksoja_ride_11_cluster_split_2',\n",
    "    'F:\\\\2023-10-30-14-28-38_tiksoja_ride_12_sfa_split_1',\n",
    "    'F:\\\\2023-10-30-15-04-36_tiksoja_ride_13_cluster_split_1',\n",
    "    'F:\\\\2023-10-30-15-19-32_tiksoja_ride_13_cluster_split_2',\n",
    "    'F:\\\\2023-10-31-09-57-58_tiksoja_ride_14_sfa_split_1',\n",
    "    'F:\\\\2023-10-31-10-17-12_tiksoja_ride_14_sfa_split_2',\n",
    "    'F:\\\\2023-10-31-10-41-16_tiksoja_ride_15_cluster_split_1',\n",
    "    'F:\\\\2023-10-31-10-59-27_tiksoja_ride_15_cluster_split_2',\n",
    "    'F:\\\\2023-11-02-11-47-11_tiksoja_ride_16_sfa_split_1',\n",
    "    'F:\\\\2023-11-02-12-00-24_tiksoja_ride_16_sfa_split_2',\n",
    "    'F:\\\\2023-11-02-12-44-53_tiksoja_ride_17_cluster_split_1',\n",
    "    'F:\\\\2023-11-02-12-58-32_tiksoja_ride_17_cluster_split_2',\n",
    "    'F:\\\\2023-11-03-09-57-03_tiksoja_ride_18_sfa_split_1',\n",
    "    'F:\\\\2023-11-03-10-21-22_tiksoja_ride_18_sfa_split_2',\n",
    "    'F:\\\\2023-11-03-10-59-56_tiksoja_ride_19_cluster_split_1',\n",
    "    'F:\\\\2023-11-03-11-14-53_tiksoja_ride_19_cluster_split_2',\n",
    "    'F:\\\\2023-11-03-13-42-01_tiksoja_ride_20_sfa_split_1',\n",
    "    'F:\\\\2023-11-03-13-56-06_tiksoja_ride_20_sfa_split_2'\n",
    "]"
   ]
  },
  {
   "cell_type": "code",
   "execution_count": null,
   "metadata": {},
   "outputs": [],
   "source": [
    "# The parameters we would like to exclude from the csv files\n",
    "excluded_parameters = [\n",
    "        'header', 'component_type', 'child_frame'\n",
    "    ]"
   ]
  },
  {
   "cell_type": "code",
   "execution_count": null,
   "metadata": {},
   "outputs": [],
   "source": [
    "# Function to combine the csv files into a single csv file\n",
    "def combine_csv_files(folder_path, desired_topics, excluded_parameters):\n",
    "    dataframes = []\n",
    "    \n",
    "    # Processing each desired CSV file\n",
    "    for file_name in desired_topics:\n",
    "        file_path = os.path.join(folder_path, file_name)\n",
    "        \n",
    "        print(f\"Processing file: {file_path}\")\n",
    "        \n",
    "        try:\n",
    "            # Loading the CSV file\n",
    "            df = pd.read_csv(file_path)\n",
    "            \n",
    "            # Removing columns containing any of the excluded parameters\n",
    "            df = df.loc[:, ~df.columns.str.contains('|'.join(excluded_parameters))]\n",
    "            \n",
    "            # Ensure 'Time' column is included and set it as the index (this is the timestamp)\n",
    "            if 'Time' in df.columns:\n",
    "                df['Time'] = pd.to_datetime(df['Time'], unit='s', errors='coerce')  # Converting to datetime\n",
    "                df.set_index('Time', inplace=True)\n",
    "            else:\n",
    "                print(f\"Warning: {file_name} does not contain a 'Time' column and will be skipped.\")\n",
    "                continue\n",
    "\n",
    "            # Appending the DataFrame to the list\n",
    "            dataframes.append(df)\n",
    "            \n",
    "        except FileNotFoundError:\n",
    "            print(f\"File {file_name} not found at path: {file_path}. Skipping this file.\")\n",
    "    \n",
    "    # Merge all DataFrames on the 'Time' index, using an outer join to keep all unique timestamps\n",
    "    combined_df = pd.concat(dataframes, axis=1, join='outer')\n",
    "\n",
    "    # Using forward fill and back fill to fill in missing values\n",
    "    combined_df.ffill(inplace=True)\n",
    "    combined_df.bfill(inplace=True)\n",
    "\n",
    "    combined_df.reset_index(inplace=True)\n",
    "\n",
    "    # Creating output path\n",
    "    folder_name = os.path.basename(folder_path)\n",
    "    output_file = f'F:\\\\{folder_name}_unified_timestamps.csv'\n",
    "    \n",
    "    # Saving\n",
    "    combined_df.to_csv(output_file, index=False)\n",
    "    \n",
    "    print(f\"Unified CSV file created: {output_file}\")"
   ]
  },
  {
   "cell_type": "code",
   "execution_count": null,
   "metadata": {},
   "outputs": [],
   "source": [
    "# Iterating over each folder\n",
    "for folder in desired_folders_for_training:\n",
    "    folder_path = folder\n",
    "    print(f\"Processing folder: {folder_path}\")\n",
    "    combine_csv_files(folder_path, desired_topics, excluded_parameters)"
   ]
  }
 ],
 "metadata": {
  "kernelspec": {
   "display_name": "Python 3",
   "language": "python",
   "name": "python3"
  },
  "language_info": {
   "name": "python",
   "version": "3.10.8"
  }
 },
 "nbformat": 4,
 "nbformat_minor": 2
}
